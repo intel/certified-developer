{
 "cells": [
  {
   "cell_type": "markdown",
   "id": "4af21982-3205-4737-8e6d-178b6cdde15a",
   "metadata": {},
   "source": [
    "# Introduction\n",
    "Welcome to this Jupyter notebook dedicated to understanding the core concepts of MLOps using MLflow!\n",
    "\n",
    "#### Objective\n",
    "In the rapidly evolving world of Machine Learning (ML), it's vital to maintain a systematic approach to model development, deployment, and monitoring. This approach is commonly referred to as MLOps. Our primary aim is to delve deep into some of its pivotal components, such as model experiment tracking and model registries.\n",
    "\n",
    "What Will We Cover?\n",
    "1. **MLOps Overview**: A brief on why MLOps is critical and its primary components.\n",
    "2. **Experiment Tracking with MLflow**: We'll train two distinct models and demonstrate how to log their parameters, metrics, and details for reproducibility and comparison.\n",
    "3. **Model Registries**: How to register models, differentiate between stages (like Production and Staging), and manage various versions of models.\n",
    "4. **Inference**: Using registered models to make predictions, distinguishing between models in different stages.\n",
    "\n",
    "#### Why MLflow?\n",
    "MLflow is a versatile open-source platform that streamlines machine learning lifecycle, including experimentation, reproducibility, and deployment. It's known for its simplicity and integrative approach, making it an ideal tool for both beginners and seasoned ML professionals.\n",
    "\n",
    "By the end of this notebook, you'll have a hands-on understanding of how MLflow facilitates MLOps and why it's an essential tool in today's ML toolkit."
   ]
  },
  {
   "cell_type": "markdown",
   "id": "b19a56ba-99e5-4332-9e02-229b7062ceea",
   "metadata": {},
   "source": [
    "Install dependencies. Only run the first line if you are running this on the Intel Developer Cloud's Jupyter Environment."
   ]
  },
  {
   "cell_type": "code",
   "execution_count": 1,
   "id": "e8e75992-8286-4846-9f75-217168bfba88",
   "metadata": {
    "scrolled": true
   },
   "outputs": [
    {
     "name": "stdout",
     "output_type": "stream",
     "text": [
      " \n",
      ":: WARNING: setvars.sh has already been run. Skipping re-execution.\n",
      "   To force a re-execution of setvars.sh, use the '--force' option.\n",
      "   Using '--force' can result in excessive use of your environment variables.\n",
      "  \n",
      "usage: source setvars.sh [--force] [--config=file] [--help] [...]\n",
      "  --force        Force setvars.sh to re-run, doing so may overload environment.\n",
      "  --config=file  Customize env vars using a setvars.sh configuration file.\n",
      "  --help         Display this help message and exit.\n",
      "  ...            Additional args are passed to individual env/vars.sh scripts\n",
      "                 and should follow this script's arguments.\n",
      "  \n",
      "  Some POSIX shells do not accept command-line options. In that case, you can pass\n",
      "  command-line options via the SETVARS_ARGS environment variable. For example:\n",
      "  \n",
      "  $ SETVARS_ARGS=\"ia32 --config=config.txt\" ; export SETVARS_ARGS\n",
      "  $ . path/to/setvars.sh\n",
      "  \n",
      "  The SETVARS_ARGS environment variable is cleared on exiting setvars.sh.\n",
      "  \n",
      "Defaulting to user installation because normal site-packages is not writeable\n",
      "Requirement already satisfied: mlflow in /home/uad6b15e0ae3d5e407195ab5f044a50f/.local/lib/python3.9/site-packages (2.7.1)\n",
      "Requirement already satisfied: click<9,>=7.0 in /home/uad6b15e0ae3d5e407195ab5f044a50f/.local/lib/python3.9/site-packages (from mlflow) (8.1.7)\n",
      "Requirement already satisfied: cloudpickle<3 in /home/uad6b15e0ae3d5e407195ab5f044a50f/.local/lib/python3.9/site-packages (from mlflow) (2.2.1)\n",
      "Requirement already satisfied: databricks-cli<1,>=0.8.7 in /home/uad6b15e0ae3d5e407195ab5f044a50f/.local/lib/python3.9/site-packages (from mlflow) (0.18.0)\n",
      "Requirement already satisfied: entrypoints<1 in /home/uad6b15e0ae3d5e407195ab5f044a50f/.local/lib/python3.9/site-packages (from mlflow) (0.4)\n",
      "Requirement already satisfied: gitpython<4,>=2.1.0 in /home/uad6b15e0ae3d5e407195ab5f044a50f/.local/lib/python3.9/site-packages (from mlflow) (3.1.40)\n",
      "Requirement already satisfied: pyyaml<7,>=5.1 in /opt/intel/oneapi/intelpython/python3.9/lib/python3.9/site-packages (from mlflow) (6.0)\n",
      "Requirement already satisfied: protobuf<5,>=3.12.0 in /home/uad6b15e0ae3d5e407195ab5f044a50f/.local/lib/python3.9/site-packages (from mlflow) (4.24.4)\n",
      "Requirement already satisfied: pytz<2024 in /opt/intel/oneapi/intelpython/python3.9/lib/python3.9/site-packages (from mlflow) (2023.3)\n",
      "Requirement already satisfied: requests<3,>=2.17.3 in /opt/intel/oneapi/intelpython/python3.9/lib/python3.9/site-packages (from mlflow) (2.31.0)\n",
      "Requirement already satisfied: packaging<24 in /opt/intel/oneapi/intelpython/python3.9/lib/python3.9/site-packages (from mlflow) (23.1)\n",
      "Requirement already satisfied: importlib-metadata!=4.7.0,<7,>=3.7.0 in /opt/intel/oneapi/intelpython/python3.9/lib/python3.9/site-packages (from mlflow) (6.0.0)\n",
      "Requirement already satisfied: sqlparse<1,>=0.4.0 in /home/uad6b15e0ae3d5e407195ab5f044a50f/.local/lib/python3.9/site-packages (from mlflow) (0.4.4)\n",
      "Requirement already satisfied: alembic!=1.10.0,<2 in /home/uad6b15e0ae3d5e407195ab5f044a50f/.local/lib/python3.9/site-packages (from mlflow) (1.12.0)\n",
      "Requirement already satisfied: docker<7,>=4.0.0 in /home/uad6b15e0ae3d5e407195ab5f044a50f/.local/lib/python3.9/site-packages (from mlflow) (6.1.3)\n",
      "Requirement already satisfied: Flask<3 in /home/uad6b15e0ae3d5e407195ab5f044a50f/.local/lib/python3.9/site-packages (from mlflow) (2.3.3)\n",
      "Requirement already satisfied: numpy<2 in /opt/intel/oneapi/intelpython/python3.9/lib/python3.9/site-packages (from mlflow) (1.24.3)\n",
      "Requirement already satisfied: scipy<2 in /opt/intel/oneapi/intelpython/python3.9/lib/python3.9/site-packages (from mlflow) (1.10.1)\n",
      "Requirement already satisfied: pandas<3 in /opt/intel/oneapi/intelpython/python3.9/lib/python3.9/site-packages (from mlflow) (2.0.3)\n",
      "Requirement already satisfied: querystring-parser<2 in /home/uad6b15e0ae3d5e407195ab5f044a50f/.local/lib/python3.9/site-packages (from mlflow) (1.2.4)\n",
      "Requirement already satisfied: sqlalchemy<3,>=1.4.0 in /home/uad6b15e0ae3d5e407195ab5f044a50f/.local/lib/python3.9/site-packages (from mlflow) (2.0.22)\n",
      "Requirement already satisfied: scikit-learn<2 in /opt/intel/oneapi/intelpython/python3.9/lib/python3.9/site-packages (from mlflow) (1.2.2)\n",
      "Requirement already satisfied: pyarrow<14,>=4.0.0 in /home/uad6b15e0ae3d5e407195ab5f044a50f/.local/lib/python3.9/site-packages (from mlflow) (13.0.0)\n",
      "Requirement already satisfied: markdown<4,>=3.3 in /home/uad6b15e0ae3d5e407195ab5f044a50f/.local/lib/python3.9/site-packages (from mlflow) (3.5)\n",
      "Requirement already satisfied: matplotlib<4 in /opt/intel/oneapi/intelpython/python3.9/lib/python3.9/site-packages (from mlflow) (3.6.2)\n",
      "Requirement already satisfied: gunicorn<22 in /home/uad6b15e0ae3d5e407195ab5f044a50f/.local/lib/python3.9/site-packages (from mlflow) (21.2.0)\n",
      "Requirement already satisfied: Jinja2<4,>=2.11 in /home/uad6b15e0ae3d5e407195ab5f044a50f/.local/lib/python3.9/site-packages (from mlflow) (3.1.2)\n",
      "Requirement already satisfied: Mako in /home/uad6b15e0ae3d5e407195ab5f044a50f/.local/lib/python3.9/site-packages (from alembic!=1.10.0,<2->mlflow) (1.2.4)\n",
      "Requirement already satisfied: typing-extensions>=4 in /opt/intel/oneapi/intelpython/python3.9/lib/python3.9/site-packages (from alembic!=1.10.0,<2->mlflow) (4.6.3)\n",
      "Requirement already satisfied: pyjwt>=1.7.0 in /home/uad6b15e0ae3d5e407195ab5f044a50f/.local/lib/python3.9/site-packages (from databricks-cli<1,>=0.8.7->mlflow) (2.8.0)\n",
      "Requirement already satisfied: oauthlib>=3.1.0 in /home/uad6b15e0ae3d5e407195ab5f044a50f/.local/lib/python3.9/site-packages (from databricks-cli<1,>=0.8.7->mlflow) (3.2.2)\n",
      "Requirement already satisfied: tabulate>=0.7.7 in /home/uad6b15e0ae3d5e407195ab5f044a50f/.local/lib/python3.9/site-packages (from databricks-cli<1,>=0.8.7->mlflow) (0.9.0)\n",
      "Requirement already satisfied: six>=1.10.0 in /opt/intel/oneapi/intelpython/python3.9/lib/python3.9/site-packages (from databricks-cli<1,>=0.8.7->mlflow) (1.16.0)\n",
      "Requirement already satisfied: urllib3<3,>=1.26.7 in /opt/intel/oneapi/intelpython/python3.9/lib/python3.9/site-packages (from databricks-cli<1,>=0.8.7->mlflow) (2.0.3)\n",
      "Requirement already satisfied: websocket-client>=0.32.0 in /home/uad6b15e0ae3d5e407195ab5f044a50f/.local/lib/python3.9/site-packages (from docker<7,>=4.0.0->mlflow) (1.6.4)\n",
      "Requirement already satisfied: Werkzeug>=2.3.7 in /home/uad6b15e0ae3d5e407195ab5f044a50f/.local/lib/python3.9/site-packages (from Flask<3->mlflow) (3.0.0)\n",
      "Requirement already satisfied: itsdangerous>=2.1.2 in /home/uad6b15e0ae3d5e407195ab5f044a50f/.local/lib/python3.9/site-packages (from Flask<3->mlflow) (2.1.2)\n",
      "Requirement already satisfied: blinker>=1.6.2 in /home/uad6b15e0ae3d5e407195ab5f044a50f/.local/lib/python3.9/site-packages (from Flask<3->mlflow) (1.6.3)\n",
      "Requirement already satisfied: gitdb<5,>=4.0.1 in /home/uad6b15e0ae3d5e407195ab5f044a50f/.local/lib/python3.9/site-packages (from gitpython<4,>=2.1.0->mlflow) (4.0.11)\n",
      "Requirement already satisfied: zipp>=0.5 in /opt/intel/oneapi/intelpython/python3.9/lib/python3.9/site-packages (from importlib-metadata!=4.7.0,<7,>=3.7.0->mlflow) (3.11.0)\n",
      "Requirement already satisfied: MarkupSafe>=2.0 in /home/uad6b15e0ae3d5e407195ab5f044a50f/.local/lib/python3.9/site-packages (from Jinja2<4,>=2.11->mlflow) (2.1.3)\n",
      "Requirement already satisfied: contourpy>=1.0.1 in /opt/intel/oneapi/intelpython/python3.9/lib/python3.9/site-packages (from matplotlib<4->mlflow) (1.0.5)\n",
      "Requirement already satisfied: cycler>=0.10 in /opt/intel/oneapi/intelpython/python3.9/lib/python3.9/site-packages (from matplotlib<4->mlflow) (0.11.0)\n",
      "Requirement already satisfied: fonttools>=4.22.0 in /opt/intel/oneapi/intelpython/python3.9/lib/python3.9/site-packages (from matplotlib<4->mlflow) (4.25.0)\n",
      "Requirement already satisfied: kiwisolver>=1.0.1 in /opt/intel/oneapi/intelpython/python3.9/lib/python3.9/site-packages (from matplotlib<4->mlflow) (1.4.4)\n",
      "Requirement already satisfied: pillow>=6.2.0 in /opt/intel/oneapi/intelpython/python3.9/lib/python3.9/site-packages (from matplotlib<4->mlflow) (10.0.0)\n",
      "Requirement already satisfied: pyparsing>=2.2.1 in /opt/intel/oneapi/intelpython/python3.9/lib/python3.9/site-packages (from matplotlib<4->mlflow) (3.1.0)\n",
      "Requirement already satisfied: python-dateutil>=2.7 in /opt/intel/oneapi/intelpython/python3.9/lib/python3.9/site-packages (from matplotlib<4->mlflow) (2.8.2)\n",
      "Requirement already satisfied: tzdata>=2022.1 in /opt/intel/oneapi/intelpython/python3.9/lib/python3.9/site-packages (from pandas<3->mlflow) (2023.3)\n",
      "Requirement already satisfied: charset-normalizer<4,>=2 in /opt/intel/oneapi/intelpython/python3.9/lib/python3.9/site-packages (from requests<3,>=2.17.3->mlflow) (3.1.0)\n",
      "Requirement already satisfied: idna<4,>=2.5 in /opt/intel/oneapi/intelpython/python3.9/lib/python3.9/site-packages (from requests<3,>=2.17.3->mlflow) (3.4)\n",
      "Requirement already satisfied: certifi>=2017.4.17 in /opt/intel/oneapi/intelpython/python3.9/lib/python3.9/site-packages (from requests<3,>=2.17.3->mlflow) (2023.7.22)\n",
      "Requirement already satisfied: joblib>=1.1.1 in /opt/intel/oneapi/intelpython/python3.9/lib/python3.9/site-packages (from scikit-learn<2->mlflow) (1.2.0)\n",
      "Requirement already satisfied: threadpoolctl>=2.0.0 in /opt/intel/oneapi/intelpython/python3.9/lib/python3.9/site-packages (from scikit-learn<2->mlflow) (3.1.0)\n",
      "Requirement already satisfied: greenlet!=0.4.17 in /home/uad6b15e0ae3d5e407195ab5f044a50f/.local/lib/python3.9/site-packages (from sqlalchemy<3,>=1.4.0->mlflow) (3.0.0)\n",
      "Requirement already satisfied: smmap<6,>=3.0.1 in /home/uad6b15e0ae3d5e407195ab5f044a50f/.local/lib/python3.9/site-packages (from gitdb<5,>=4.0.1->gitpython<4,>=2.1.0->mlflow) (5.0.1)\n",
      "Defaulting to user installation because normal site-packages is not writeable\n",
      "Requirement already satisfied: scikit-learn in /opt/intel/oneapi/intelpython/python3.9/lib/python3.9/site-packages (1.2.2)\n",
      "Requirement already satisfied: numpy>=1.17.3 in /opt/intel/oneapi/intelpython/python3.9/lib/python3.9/site-packages (from scikit-learn) (1.24.3)\n",
      "Requirement already satisfied: scipy>=1.3.2 in /opt/intel/oneapi/intelpython/python3.9/lib/python3.9/site-packages (from scikit-learn) (1.10.1)\n",
      "Requirement already satisfied: joblib>=1.1.1 in /opt/intel/oneapi/intelpython/python3.9/lib/python3.9/site-packages (from scikit-learn) (1.2.0)\n",
      "Requirement already satisfied: threadpoolctl>=2.0.0 in /opt/intel/oneapi/intelpython/python3.9/lib/python3.9/site-packages (from scikit-learn) (3.1.0)\n",
      "Defaulting to user installation because normal site-packages is not writeable\n",
      "Requirement already satisfied: numpy in /opt/intel/oneapi/intelpython/python3.9/lib/python3.9/site-packages (1.24.3)\n"
     ]
    }
   ],
   "source": [
    "# !source /opt/intel/oneapi/setvars.sh #comment out if not running on Intel Developer Cloud Jupyter\n",
    "# !pip install mlflow\n",
    "# !pip install scikit-learn\n",
    "# !pip install numpy"
   ]
  },
  {
   "cell_type": "markdown",
   "id": "a864c6a4-80b4-48dd-b971-262f407a236b",
   "metadata": {},
   "source": [
    "## 1. Introduction to Model Experiment Tracking and Model Registries\n",
    "Model Experiment Tracking\n",
    "Experiment tracking is the process of keeping a record of the experiments in the machine learning lifecycle. It helps in:\n",
    "\n",
    "- Keeping a track of various model versions.\n",
    "- Monitoring metrics across different experiments.\n",
    "- Reproducing and collaborating on results."
   ]
  },
  {
   "cell_type": "markdown",
   "id": "58ba7b39-62b3-40b9-88f3-c8f5c51a0483",
   "metadata": {},
   "source": [
    "### Model Registries\n",
    "A model registry maintains a centralized hub of ML models, making it easier to:\n",
    "\n",
    "Store and version models.\n",
    "Share and collaborate on models.\n",
    "Deploy and monitor models in different environments like staging and production."
   ]
  },
  {
   "cell_type": "markdown",
   "id": "09bb3fef-509b-4f07-8b31-79934f0bfdea",
   "metadata": {},
   "source": [
    "## 2. Training and Logging Runs with MLflow\n",
    "First, let's start by importing necessary libraries and initializing MLflow:\n",
    "\n",
    "The code loads the Iris dataset, a popular dataset containing measurements for iris flowers. It then splits the data into features (X) and target labels (y). Finally, it divides the dataset into training and testing subsets using a 70-30 split, where 70% of the data is allocated for training and 30% for testing."
   ]
  },
  {
   "cell_type": "code",
   "execution_count": 2,
   "id": "92e932d4-bdbd-4997-b943-78330e9e6fc8",
   "metadata": {},
   "outputs": [
    {
     "name": "stderr",
     "output_type": "stream",
     "text": [
      "Intel(R) Extension for Scikit-learn* enabled (https://github.com/intel/scikit-learn-intelex)\n"
     ]
    }
   ],
   "source": [
    "import mlflow\n",
    "import mlflow.sklearn\n",
    "import numpy as np\n",
    "from sklearn.datasets import load_iris\n",
    "from sklearn.model_selection import train_test_split\n",
    "from sklearn.ensemble import RandomForestClassifier\n",
    "from sklearn.linear_model import LogisticRegression\n",
    "\n",
    "# Load data\n",
    "iris = load_iris()\n",
    "X, y = iris.data, iris.target\n",
    "X_train, X_test, y_train, y_test = train_test_split(X, y, test_size=0.3)"
   ]
  },
  {
   "cell_type": "markdown",
   "id": "8d145acf-849b-424b-a596-6f54288813a6",
   "metadata": {},
   "source": [
    "Now, let's train two models and log their runs:\n",
    "\n",
    "The code below trains two machine learning models: a Random Forest classifier and a Logistic Regression classifier, using training data X_train and y_train. During each model's training process, an MLflow run is initiated to log the model's details. For both models, after training, their performance is evaluated on a test set, and the accuracy is computed. This accuracy, along with other model details like type and version, is logged into MLflow. Additionally, the trained model itself is saved within MLflow. At the end of each training block, the run ID is extracted and stored for potential future reference or operations."
   ]
  },
  {
   "cell_type": "code",
   "execution_count": 3,
   "id": "dd97ad2d-2840-4935-a61d-d11429fe1208",
   "metadata": {},
   "outputs": [
    {
     "name": "stderr",
     "output_type": "stream",
     "text": [
      "2023/10/20 19:59:27 WARNING mlflow.utils.requirements_utils: Found dpctl version (0.14.4+27.ga3cde67f7) contains a local version label (+27.ga3cde67f7). MLflow logged a pip requirement for this package as 'dpctl==0.14.4' without the local version label to make it installable from PyPI. To specify pip requirements containing local version labels, please use `conda_env` or `pip_requirements`.\n",
      "/opt/intel/oneapi/intelpython/latest/lib/python3.9/site-packages/_distutils_hack/__init__.py:33: UserWarning: Setuptools is replacing distutils.\n",
      "  warnings.warn(\"Setuptools is replacing distutils.\")\n",
      "2023/10/20 19:59:29 WARNING mlflow.utils.requirements_utils: Found dpctl version (0.14.4+27.ga3cde67f7) contains a local version label (+27.ga3cde67f7). MLflow logged a pip requirement for this package as 'dpctl==0.14.4' without the local version label to make it installable from PyPI. To specify pip requirements containing local version labels, please use `conda_env` or `pip_requirements`.\n"
     ]
    }
   ],
   "source": [
    "# Training Random Forest Model and Logging with MLflow\n",
    "with mlflow.start_run(run_name=\"Random Forest Run\") as run:\n",
    "    rf_model = RandomForestClassifier()\n",
    "    rf_model.fit(X_train, y_train)\n",
    "    \n",
    "    # Evaluating the model\n",
    "    accuracy = rf_model.score(X_test, y_test)\n",
    "    \n",
    "    # Logging details with MLflow\n",
    "    mlflow.log_param(\"model_type\", \"Random Forest\")\n",
    "    mlflow.log_metric(\"accuracy\", accuracy)\n",
    "    mlflow.sklearn.log_model(rf_model, \"model\")\n",
    "    mlflow.set_tags({\"version\": \"1.0\", \"type\": \"tree_based\"})\n",
    "\n",
    "rf_run_id = run.info.run_id\n",
    "\n",
    "# Training Logistic Regression Model and Logging with MLflow\n",
    "with mlflow.start_run(run_name=\"Logistic Regression Run\") as run:\n",
    "    lr_model = LogisticRegression(max_iter=1000)\n",
    "    lr_model.fit(X_train, y_train)\n",
    "    \n",
    "    # Evaluating the model\n",
    "    accuracy = lr_model.score(X_test, y_test)\n",
    "    \n",
    "    # Logging details with MLflow\n",
    "    mlflow.log_param(\"model_type\", \"Logistic Regression\")\n",
    "    mlflow.log_metric(\"accuracy\", accuracy)\n",
    "    mlflow.sklearn.log_model(lr_model, \"model\")\n",
    "    mlflow.set_tags({\"version\": \"1.0\", \"type\": \"linear\"})\n",
    "\n",
    "lr_run_id = run.info.run_id"
   ]
  },
  {
   "cell_type": "markdown",
   "id": "6dc3b8df-c7d3-4b22-8318-adafdda6b5b7",
   "metadata": {},
   "source": [
    "## 3. Registering Models with MLflow\n",
    "Let's register the models\n",
    "\n",
    "The code below initiates the MLflow client to interact with MLflow's tracking system. It then registers two machine learning models: a Random Forest model and a Logistic Regression model, both associated with the name \"IrisModel\". After registering the Random Forest model using its specific run ID, it transitions its stage to \"Production\". Similarly, post the registration of the Logistic Regression model using its run ID, its stage is set to \"Staging\". The code essentially registers and assigns deployment stages to two models within the MLflow system.:"
   ]
  },
  {
   "cell_type": "code",
   "execution_count": 4,
   "id": "c5d22b73-8395-49c6-b477-bd9adbe0132b",
   "metadata": {
    "scrolled": true
   },
   "outputs": [
    {
     "name": "stderr",
     "output_type": "stream",
     "text": [
      "Successfully registered model 'IrisModel'.\n",
      "2023/10/20 19:59:29 INFO mlflow.tracking._model_registry.client: Waiting up to 300 seconds for model version to finish creation. Model name: IrisModel, version 1\n",
      "Created version '1' of model 'IrisModel'.\n",
      "Registered model 'IrisModel' already exists. Creating a new version of this model...\n",
      "2023/10/20 19:59:29 INFO mlflow.tracking._model_registry.client: Waiting up to 300 seconds for model version to finish creation. Model name: IrisModel, version 2\n",
      "Created version '2' of model 'IrisModel'.\n"
     ]
    },
    {
     "data": {
      "text/plain": [
       "<ModelVersion: aliases=[], creation_timestamp=1697857169395, current_stage='Staging', description=None, last_updated_timestamp=1697857169423, name='IrisModel', run_id='3904be5576f746e3bfcae906244af20e', run_link=None, source='file:///home/uad6b15e0ae3d5e407195ab5f044a50f/Eduardo/mlruns/0/3904be5576f746e3bfcae906244af20e/artifacts/model', status='READY', status_message=None, tags={}, user_id=None, version=2>"
      ]
     },
     "execution_count": 4,
     "metadata": {},
     "output_type": "execute_result"
    }
   ],
   "source": [
    "# Initializing the MLflow client\n",
    "client = mlflow.tracking.MlflowClient()\n",
    "\n",
    "# Registering Random Forest Model using the actual run ID\n",
    "rf_registered_model = mlflow.register_model(f\"runs:/{rf_run_id}/model\", \"IrisModel\")\n",
    "\n",
    "# Transitioning it to production\n",
    "client.transition_model_version_stage(\n",
    "    name=\"IrisModel\", \n",
    "    version=rf_registered_model.version, \n",
    "    stage=\"Production\"\n",
    ")\n",
    "\n",
    "# Registering Logistic Regression Model using the actual run ID\n",
    "lr_registered_model = mlflow.register_model(f\"runs:/{lr_run_id}/model\", \"IrisModel\")\n",
    "\n",
    "# Transitioning it to staging\n",
    "client.transition_model_version_stage(\n",
    "    name=\"IrisModel\", \n",
    "    version=lr_registered_model.version, \n",
    "    stage=\"Staging\"\n",
    ")"
   ]
  },
  {
   "cell_type": "markdown",
   "id": "b5b0f1c9-7aa1-4c97-9f46-a514ac4b4bff",
   "metadata": {},
   "source": [
    "Now let's review the models that we have registered. The below code initializes the MlflowClient from the MLflow library, which facilitates interactions with MLflow's tracking server. It then retrieves a list of all registered machine learning models. For each registered model, the code prints its name, iterates over its versions, and for each version, it fetches and displays its details — including the version number, the associated run ID, and its current deployment stage. The code provides an overview of all models and their versions registered in the MLflow system."
   ]
  },
  {
   "cell_type": "code",
   "execution_count": 5,
   "id": "fd294ca5-24bf-4b30-8a41-7d268078e5ee",
   "metadata": {},
   "outputs": [
    {
     "name": "stdout",
     "output_type": "stream",
     "text": [
      "Name: IrisModel\n",
      "Version: 2\n",
      "Run ID: 3904be5576f746e3bfcae906244af20e\n",
      "Stage: Staging\n",
      "------\n",
      "Version: 1\n",
      "Run ID: 416035e966234b1cb32c375df6a4ccf7\n",
      "Stage: Production\n",
      "------\n",
      "----------------------------\n"
     ]
    }
   ],
   "source": [
    "import mlflow\n",
    "from mlflow.tracking import MlflowClient\n",
    "\n",
    "# Initialize the client\n",
    "client = MlflowClient()\n",
    "\n",
    "# List all registered models\n",
    "registered_models = client.search_registered_models()\n",
    "\n",
    "# Print details of each registered model\n",
    "for rm in registered_models:\n",
    "    print(\"Name:\", rm.name)\n",
    "    \n",
    "    for version in rm.latest_versions:\n",
    "        model_version_details = client.get_model_version(rm.name, version.version)\n",
    "        \n",
    "        print(\"Version:\", version.version)\n",
    "        print(\"Run ID:\", model_version_details.run_id)\n",
    "        print(\"Stage:\", model_version_details.current_stage)\n",
    "        print(\"------\")\n",
    "    \n",
    "    print(\"----------------------------\")"
   ]
  },
  {
   "cell_type": "markdown",
   "id": "3ddd29b8-b6f7-4b8a-a0c7-3110d3ca5874",
   "metadata": {},
   "source": [
    "## 4. Inference using Registered Models\n",
    "Let's load and use the registered models for inference\n",
    "\n",
    "The code below imports the necessary mlflow.pyfunc module, specifies the \"IrisModel\" registered in MLflow's model registry, and then loads the version of this model that's in the 'Production' stage. With a sample iris dataset provided, it uses the loaded model to make predictions and then prints the resultant predictions to the console. In essence, it showcases how to retrieve a model from MLflow's model registry and use it for inference on new data.:"
   ]
  },
  {
   "cell_type": "code",
   "execution_count": 6,
   "id": "074abac8-638f-427c-9b9b-dd92cdabff9e",
   "metadata": {},
   "outputs": [
    {
     "name": "stdout",
     "output_type": "stream",
     "text": [
      "[0 1]\n"
     ]
    }
   ],
   "source": [
    "import mlflow.pyfunc\n",
    "\n",
    "# Define the name of the registered model\n",
    "model_name = \"IrisModel\"\n",
    "\n",
    "# Load the model in 'Production' stage from the model registry\n",
    "model_production = mlflow.pyfunc.load_model(model_uri=f\"models:/{model_name}/Production\")\n",
    "\n",
    "# Assume you have some new sample data for prediction (modify this according to your data)\n",
    "sample_data = [[5.1, 3.5, 1.4, 0.2],  # Example iris data\n",
    "               [6.7, 3.1, 4.7, 1.5]]\n",
    "\n",
    "# Perform inference\n",
    "predictions = model_production.predict(sample_data)\n",
    "\n",
    "print(predictions)"
   ]
  },
  {
   "cell_type": "markdown",
   "id": "5079be50-bcf7-4125-b5a1-8129a1c47905",
   "metadata": {},
   "source": [
    "# Conclusion\n",
    "Through this workshop:\n",
    "\n",
    "1. We understood the importance of Model Experiment Tracking and how it helps streamline ML processes, reproduce results, and collaborate.\n",
    "2. We delved into Model Registries and saw its utility in managing, versioning, and deploying models.\n",
    "3. We trained two models and logged their runs with MLflow, tagging them appropriately.\n",
    "4. We registered our models in different stages: production and staging. This helps in differentiating models ready for live environments vs those still under evaluation.\n",
    "5. Lastly, we used our registered models for inference, showcasing how easy it is to fetch and use models from a centralized repository."
   ]
  }
 ],
 "metadata": {
  "kernelspec": {
   "display_name": "base",
   "language": "python",
   "name": "base"
  },
  "language_info": {
   "codemirror_mode": {
    "name": "ipython",
    "version": 3
   },
   "file_extension": ".py",
   "mimetype": "text/x-python",
   "name": "python",
   "nbconvert_exporter": "python",
   "pygments_lexer": "ipython3",
   "version": "3.9.16"
  }
 },
 "nbformat": 4,
 "nbformat_minor": 5
}
